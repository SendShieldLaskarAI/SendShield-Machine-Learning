{
 "cells": [
  {
   "cell_type": "code",
   "id": "initial_id",
   "metadata": {
    "collapsed": true,
    "ExecuteTime": {
     "end_time": "2025-05-29T07:09:52.614830Z",
     "start_time": "2025-05-29T07:09:52.612594Z"
    }
   },
   "source": [
    "import pandas as pd\n",
    "import re\n",
    "import string"
   ],
   "outputs": [],
   "execution_count": 26
  },
  {
   "metadata": {
    "ExecuteTime": {
     "end_time": "2025-05-29T07:09:52.809476Z",
     "start_time": "2025-05-29T07:09:52.788061Z"
    }
   },
   "cell_type": "code",
   "source": [
    "data = pd.read_csv('datafull.csv')\n",
    "data.head()"
   ],
   "id": "f781b1f5fa683ff1",
   "outputs": [
    {
     "data": {
      "text/plain": [
       "                                                text\n",
       "0   Mending plonga plong Tinimbang pinter go minteri\n",
       "1                    Hidup amin Raiso bapa repormasi\n",
       "2                       Mantaappps... Btlllll pak...\n",
       "3                      Yang menghina itu lambemu min\n",
       "4  Amin rais manusia paling redah pikiranya..peng..."
      ],
      "text/html": [
       "<div>\n",
       "<style scoped>\n",
       "    .dataframe tbody tr th:only-of-type {\n",
       "        vertical-align: middle;\n",
       "    }\n",
       "\n",
       "    .dataframe tbody tr th {\n",
       "        vertical-align: top;\n",
       "    }\n",
       "\n",
       "    .dataframe thead th {\n",
       "        text-align: right;\n",
       "    }\n",
       "</style>\n",
       "<table border=\"1\" class=\"dataframe\">\n",
       "  <thead>\n",
       "    <tr style=\"text-align: right;\">\n",
       "      <th></th>\n",
       "      <th>text</th>\n",
       "    </tr>\n",
       "  </thead>\n",
       "  <tbody>\n",
       "    <tr>\n",
       "      <th>0</th>\n",
       "      <td>Mending plonga plong Tinimbang pinter go minteri</td>\n",
       "    </tr>\n",
       "    <tr>\n",
       "      <th>1</th>\n",
       "      <td>Hidup amin Raiso bapa repormasi</td>\n",
       "    </tr>\n",
       "    <tr>\n",
       "      <th>2</th>\n",
       "      <td>Mantaappps... Btlllll pak...</td>\n",
       "    </tr>\n",
       "    <tr>\n",
       "      <th>3</th>\n",
       "      <td>Yang menghina itu lambemu min</td>\n",
       "    </tr>\n",
       "    <tr>\n",
       "      <th>4</th>\n",
       "      <td>Amin rais manusia paling redah pikiranya..peng...</td>\n",
       "    </tr>\n",
       "  </tbody>\n",
       "</table>\n",
       "</div>"
      ]
     },
     "execution_count": 27,
     "metadata": {},
     "output_type": "execute_result"
    }
   ],
   "execution_count": 27
  },
  {
   "metadata": {
    "ExecuteTime": {
     "end_time": "2025-05-29T07:09:53.089277Z",
     "start_time": "2025-05-29T07:09:53.085439Z"
    }
   },
   "cell_type": "code",
   "source": "data.isnull().sum()",
   "id": "54067058d1fc9421",
   "outputs": [
    {
     "data": {
      "text/plain": [
       "text    0\n",
       "dtype: int64"
      ]
     },
     "execution_count": 28,
     "metadata": {},
     "output_type": "execute_result"
    }
   ],
   "execution_count": 28
  },
  {
   "metadata": {
    "ExecuteTime": {
     "end_time": "2025-05-29T07:09:53.537032Z",
     "start_time": "2025-05-29T07:09:53.531305Z"
    }
   },
   "cell_type": "code",
   "source": "data.duplicated().sum()",
   "id": "79a6a947d5aa4dd5",
   "outputs": [
    {
     "data": {
      "text/plain": [
       "343"
      ]
     },
     "execution_count": 29,
     "metadata": {},
     "output_type": "execute_result"
    }
   ],
   "execution_count": 29
  },
  {
   "metadata": {
    "ExecuteTime": {
     "end_time": "2025-05-29T07:09:53.880684Z",
     "start_time": "2025-05-29T07:09:53.877603Z"
    }
   },
   "cell_type": "code",
   "source": "data.drop_duplicates(inplace=True)",
   "id": "d1b069d0283de9a2",
   "outputs": [],
   "execution_count": 30
  },
  {
   "metadata": {
    "ExecuteTime": {
     "end_time": "2025-05-29T07:09:54.301280Z",
     "start_time": "2025-05-29T07:09:54.298377Z"
    }
   },
   "cell_type": "code",
   "source": "data.duplicated().sum()",
   "id": "6cf5d1e291ed7b15",
   "outputs": [
    {
     "data": {
      "text/plain": [
       "0"
      ]
     },
     "execution_count": 31,
     "metadata": {},
     "output_type": "execute_result"
    }
   ],
   "execution_count": 31
  },
  {
   "metadata": {
    "ExecuteTime": {
     "end_time": "2025-05-29T07:09:55.230991Z",
     "start_time": "2025-05-29T07:09:55.174281Z"
    }
   },
   "cell_type": "code",
   "source": [
    "from collections import Counter\n",
    "cnt = Counter()\n",
    "for text in data['text'].values:\n",
    "    for word in text.split():\n",
    "        cnt[word] += 1\n",
    "cnt.most_common(1000)\n",
    "temp = pd.DataFrame(cnt.most_common(1000))\n",
    "temp.columns=['word', 'count']\n",
    "temp\n"
   ],
   "id": "4d702c4eb279970d",
   "outputs": [
    {
     "data": {
      "text/plain": [
       "          word  count\n",
       "0           yg   3856\n",
       "1           di   2670\n",
       "2         amin   2662\n",
       "3         Amin   2565\n",
       "4        orang   2376\n",
       "..         ...    ...\n",
       "995     Matamu     28\n",
       "996  presiden,     28\n",
       "997      baik,     28\n",
       "998     planga     28\n",
       "999   beragama     28\n",
       "\n",
       "[1000 rows x 2 columns]"
      ],
      "text/html": [
       "<div>\n",
       "<style scoped>\n",
       "    .dataframe tbody tr th:only-of-type {\n",
       "        vertical-align: middle;\n",
       "    }\n",
       "\n",
       "    .dataframe tbody tr th {\n",
       "        vertical-align: top;\n",
       "    }\n",
       "\n",
       "    .dataframe thead th {\n",
       "        text-align: right;\n",
       "    }\n",
       "</style>\n",
       "<table border=\"1\" class=\"dataframe\">\n",
       "  <thead>\n",
       "    <tr style=\"text-align: right;\">\n",
       "      <th></th>\n",
       "      <th>word</th>\n",
       "      <th>count</th>\n",
       "    </tr>\n",
       "  </thead>\n",
       "  <tbody>\n",
       "    <tr>\n",
       "      <th>0</th>\n",
       "      <td>yg</td>\n",
       "      <td>3856</td>\n",
       "    </tr>\n",
       "    <tr>\n",
       "      <th>1</th>\n",
       "      <td>di</td>\n",
       "      <td>2670</td>\n",
       "    </tr>\n",
       "    <tr>\n",
       "      <th>2</th>\n",
       "      <td>amin</td>\n",
       "      <td>2662</td>\n",
       "    </tr>\n",
       "    <tr>\n",
       "      <th>3</th>\n",
       "      <td>Amin</td>\n",
       "      <td>2565</td>\n",
       "    </tr>\n",
       "    <tr>\n",
       "      <th>4</th>\n",
       "      <td>orang</td>\n",
       "      <td>2376</td>\n",
       "    </tr>\n",
       "    <tr>\n",
       "      <th>...</th>\n",
       "      <td>...</td>\n",
       "      <td>...</td>\n",
       "    </tr>\n",
       "    <tr>\n",
       "      <th>995</th>\n",
       "      <td>Matamu</td>\n",
       "      <td>28</td>\n",
       "    </tr>\n",
       "    <tr>\n",
       "      <th>996</th>\n",
       "      <td>presiden,</td>\n",
       "      <td>28</td>\n",
       "    </tr>\n",
       "    <tr>\n",
       "      <th>997</th>\n",
       "      <td>baik,</td>\n",
       "      <td>28</td>\n",
       "    </tr>\n",
       "    <tr>\n",
       "      <th>998</th>\n",
       "      <td>planga</td>\n",
       "      <td>28</td>\n",
       "    </tr>\n",
       "    <tr>\n",
       "      <th>999</th>\n",
       "      <td>beragama</td>\n",
       "      <td>28</td>\n",
       "    </tr>\n",
       "  </tbody>\n",
       "</table>\n",
       "<p>1000 rows × 2 columns</p>\n",
       "</div>"
      ]
     },
     "execution_count": 32,
     "metadata": {},
     "output_type": "execute_result"
    }
   ],
   "execution_count": 32
  },
  {
   "metadata": {
    "ExecuteTime": {
     "end_time": "2025-05-29T07:09:55.521947Z",
     "start_time": "2025-05-29T07:09:55.512679Z"
    }
   },
   "cell_type": "code",
   "source": [
    "data = data[data['text'].notna()]\n",
    "data = data[data['text'].str.strip() != '']\n",
    "data = data[data['text'].str.contains(r'[a-zA-Z]{2,}', na=False)]\n",
    "data"
   ],
   "id": "d6a28ae90ce43ac2",
   "outputs": [
    {
     "data": {
      "text/plain": [
       "                                                    text\n",
       "0       Mending plonga plong Tinimbang pinter go minteri\n",
       "1                        Hidup amin Raiso bapa repormasi\n",
       "2                           Mantaappps... Btlllll pak...\n",
       "3                          Yang menghina itu lambemu min\n",
       "4      Amin rais manusia paling redah pikiranya..peng...\n",
       "...                                                  ...\n",
       "19342  @kompascom Tapi aiman bertanya ke pengacaranya...\n",
       "19343  @muannas_alaidid Yg jelas omongannya Jokowi pa...\n",
       "19344                      @CakKhum depresi si om Jokowi\n",
       "19345  @TriSartopo @ch_chotimah2 @jokowi Mana berani ...\n",
       "19346  @powerangerpink7 @sarwonobs @DokterTifa @jokow...\n",
       "\n",
       "[18909 rows x 1 columns]"
      ],
      "text/html": [
       "<div>\n",
       "<style scoped>\n",
       "    .dataframe tbody tr th:only-of-type {\n",
       "        vertical-align: middle;\n",
       "    }\n",
       "\n",
       "    .dataframe tbody tr th {\n",
       "        vertical-align: top;\n",
       "    }\n",
       "\n",
       "    .dataframe thead th {\n",
       "        text-align: right;\n",
       "    }\n",
       "</style>\n",
       "<table border=\"1\" class=\"dataframe\">\n",
       "  <thead>\n",
       "    <tr style=\"text-align: right;\">\n",
       "      <th></th>\n",
       "      <th>text</th>\n",
       "    </tr>\n",
       "  </thead>\n",
       "  <tbody>\n",
       "    <tr>\n",
       "      <th>0</th>\n",
       "      <td>Mending plonga plong Tinimbang pinter go minteri</td>\n",
       "    </tr>\n",
       "    <tr>\n",
       "      <th>1</th>\n",
       "      <td>Hidup amin Raiso bapa repormasi</td>\n",
       "    </tr>\n",
       "    <tr>\n",
       "      <th>2</th>\n",
       "      <td>Mantaappps... Btlllll pak...</td>\n",
       "    </tr>\n",
       "    <tr>\n",
       "      <th>3</th>\n",
       "      <td>Yang menghina itu lambemu min</td>\n",
       "    </tr>\n",
       "    <tr>\n",
       "      <th>4</th>\n",
       "      <td>Amin rais manusia paling redah pikiranya..peng...</td>\n",
       "    </tr>\n",
       "    <tr>\n",
       "      <th>...</th>\n",
       "      <td>...</td>\n",
       "    </tr>\n",
       "    <tr>\n",
       "      <th>19342</th>\n",
       "      <td>@kompascom Tapi aiman bertanya ke pengacaranya...</td>\n",
       "    </tr>\n",
       "    <tr>\n",
       "      <th>19343</th>\n",
       "      <td>@muannas_alaidid Yg jelas omongannya Jokowi pa...</td>\n",
       "    </tr>\n",
       "    <tr>\n",
       "      <th>19344</th>\n",
       "      <td>@CakKhum depresi si om Jokowi</td>\n",
       "    </tr>\n",
       "    <tr>\n",
       "      <th>19345</th>\n",
       "      <td>@TriSartopo @ch_chotimah2 @jokowi Mana berani ...</td>\n",
       "    </tr>\n",
       "    <tr>\n",
       "      <th>19346</th>\n",
       "      <td>@powerangerpink7 @sarwonobs @DokterTifa @jokow...</td>\n",
       "    </tr>\n",
       "  </tbody>\n",
       "</table>\n",
       "<p>18909 rows × 1 columns</p>\n",
       "</div>"
      ]
     },
     "execution_count": 33,
     "metadata": {},
     "output_type": "execute_result"
    }
   ],
   "execution_count": 33
  },
  {
   "metadata": {
    "ExecuteTime": {
     "end_time": "2025-05-29T07:09:57.060884Z",
     "start_time": "2025-05-29T07:09:56.914301Z"
    }
   },
   "cell_type": "code",
   "source": [
    "# Fungsi untuk mendeteksi kata dengan perulangan huruf ganda (2+ kali berulang)\n",
    "def detect_repeated_chars(text):\n",
    "    pattern = r'\\b\\w*([a-zA-Z])\\1{1,}\\w*\\b'\n",
    "    words_with_repetition = []\n",
    "    words = text.split()\n",
    "    for word in words:\n",
    "        clean_word = re.sub(r'[^\\w]', '', word.lower())\n",
    "        if re.search(r'([a-zA-Z])\\1{1,}', clean_word):\n",
    "            words_with_repetition.append(word)\n",
    "\n",
    "    return words_with_repetition\n",
    "\n",
    "repeated_words_list = []\n",
    "for text in data['text'].values:\n",
    "    words = detect_repeated_chars(str(text))\n",
    "    repeated_words_list.extend(words)\n",
    "print(f\"Total kata dengan perulangan ditemukan: {len(repeated_words_list)}\")\n",
    "print(f\"Kata unik dengan perulangan: {len(set(repeated_words_list))}\")\n"
   ],
   "id": "b0ab98b322b6e4c8",
   "outputs": [
    {
     "name": "stdout",
     "output_type": "stream",
     "text": [
      "Total kata dengan perulangan ditemukan: 9653\n",
      "Kata unik dengan perulangan: 5569\n"
     ]
    }
   ],
   "execution_count": 34
  },
  {
   "metadata": {
    "ExecuteTime": {
     "end_time": "2025-05-29T07:11:03.504459Z",
     "start_time": "2025-05-29T07:11:03.499641Z"
    }
   },
   "cell_type": "code",
   "source": [
    "from collections import Counter\n",
    "\n",
    "repeated_counter = Counter(repeated_words_list)\n",
    "repeated_df = pd.DataFrame(repeated_counter.most_common(100), columns=['kata_berulang', 'frekuensi'])\n",
    "\n",
    "print(\"100 kata dengan perulangan huruf terbanyak:\")\n",
    "repeated_df.head(100)"
   ],
   "id": "293b49b1aa359e31",
   "outputs": [
    {
     "name": "stdout",
     "output_type": "stream",
     "text": [
      "100 kata dengan perulangan huruf terbanyak:\n"
     ]
    },
    {
     "data": {
      "text/plain": [
       "   kata_berulang  frekuensi\n",
       "0          Allah        213\n",
       "1          nggak        174\n",
       "2           saat        115\n",
       "3        tinggal        101\n",
       "4           ngga         85\n",
       "..           ...        ...\n",
       "95      jelekkan         10\n",
       "96         Aminn         10\n",
       "97      tanggung         10\n",
       "98         mbahh         10\n",
       "99          yaaa         10\n",
       "\n",
       "[100 rows x 2 columns]"
      ],
      "text/html": [
       "<div>\n",
       "<style scoped>\n",
       "    .dataframe tbody tr th:only-of-type {\n",
       "        vertical-align: middle;\n",
       "    }\n",
       "\n",
       "    .dataframe tbody tr th {\n",
       "        vertical-align: top;\n",
       "    }\n",
       "\n",
       "    .dataframe thead th {\n",
       "        text-align: right;\n",
       "    }\n",
       "</style>\n",
       "<table border=\"1\" class=\"dataframe\">\n",
       "  <thead>\n",
       "    <tr style=\"text-align: right;\">\n",
       "      <th></th>\n",
       "      <th>kata_berulang</th>\n",
       "      <th>frekuensi</th>\n",
       "    </tr>\n",
       "  </thead>\n",
       "  <tbody>\n",
       "    <tr>\n",
       "      <th>0</th>\n",
       "      <td>Allah</td>\n",
       "      <td>213</td>\n",
       "    </tr>\n",
       "    <tr>\n",
       "      <th>1</th>\n",
       "      <td>nggak</td>\n",
       "      <td>174</td>\n",
       "    </tr>\n",
       "    <tr>\n",
       "      <th>2</th>\n",
       "      <td>saat</td>\n",
       "      <td>115</td>\n",
       "    </tr>\n",
       "    <tr>\n",
       "      <th>3</th>\n",
       "      <td>tinggal</td>\n",
       "      <td>101</td>\n",
       "    </tr>\n",
       "    <tr>\n",
       "      <th>4</th>\n",
       "      <td>ngga</td>\n",
       "      <td>85</td>\n",
       "    </tr>\n",
       "    <tr>\n",
       "      <th>...</th>\n",
       "      <td>...</td>\n",
       "      <td>...</td>\n",
       "    </tr>\n",
       "    <tr>\n",
       "      <th>95</th>\n",
       "      <td>jelekkan</td>\n",
       "      <td>10</td>\n",
       "    </tr>\n",
       "    <tr>\n",
       "      <th>96</th>\n",
       "      <td>Aminn</td>\n",
       "      <td>10</td>\n",
       "    </tr>\n",
       "    <tr>\n",
       "      <th>97</th>\n",
       "      <td>tanggung</td>\n",
       "      <td>10</td>\n",
       "    </tr>\n",
       "    <tr>\n",
       "      <th>98</th>\n",
       "      <td>mbahh</td>\n",
       "      <td>10</td>\n",
       "    </tr>\n",
       "    <tr>\n",
       "      <th>99</th>\n",
       "      <td>yaaa</td>\n",
       "      <td>10</td>\n",
       "    </tr>\n",
       "  </tbody>\n",
       "</table>\n",
       "<p>100 rows × 2 columns</p>\n",
       "</div>"
      ]
     },
     "execution_count": 37,
     "metadata": {},
     "output_type": "execute_result"
    }
   ],
   "execution_count": 37
  },
  {
   "metadata": {
    "ExecuteTime": {
     "end_time": "2025-05-29T07:22:02.518936Z",
     "start_time": "2025-05-29T07:22:02.314856Z"
    }
   },
   "cell_type": "code",
   "source": [
    "kata_baku_berulang_final = {\n",
    "    \"allah\", \"nggak\", \"saat\", \"tinggal\", \"ngga\", \"alloh\", \"bukannya\", \"maaf\", \"uud\", \"tinggi\", \"omongannya\", \"nunggu\", \"tunggu\",\n",
    "    \"sesungguhnya\", \"hingga\", \"ucapannya\", \"dajjal\", \"astaghfirullah\", \"sehingga\", \"menjelekkan\", \"meninggal\", \"sll\", \"menunjukkan\", \"panggung\", \"kerjaan\",\n",
    "    \"kenyataan\", \"sungguh\", \"bangga\", \"panggil\", \"muhammadiyah\", \"ttp\", \"nggk\", \"kekuasaan\", \"menggonggong\", \"sllu\", \"melanggar\", \"cangkemmu\", \"kanggo\", \"menunggu\", \"dipanggil\", \"pertanggung\", \"menggulingkan\", \"pikirannya\", \"perkataan\", \"menganggap\", \"suul\", \"keadaan\", \"saatnya\", \"muhammad\", \"engga\", \"anggota\", \"kelakukannya\", \"bloon\", \"dianggap\", \"kerjaannya\", \"manfaatnya\", \"dll\", \"diindonesia\", \"jelekkan\", \"tanggung\"\n",
    "}\n",
    "\n",
    "def cleaningText(text, exceptions):\n",
    "  text = text.lower()\n",
    "  text = re.sub(r'<br\\s*/?>', ' ', text)\n",
    "  text = re.sub(r'http\\S+|www\\S+|<a.*?>|</a>', '', text)\n",
    "  text = re.sub(r'@\\w+|#\\w+', '', text)\n",
    "  text = re.sub(r'[^\\x00-\\x7F]+', ' ', text)\n",
    "  text = re.sub(r'\\d+', '', text)\n",
    "  text = re.sub(f\"[{re.escape(string.punctuation)}]\", ' ', text)\n",
    "  text = ' '.join(text.split())\n",
    "  tokens = text.split()\n",
    "  normalized_tokens = []\n",
    "  for token in tokens:\n",
    "    if token in exceptions:\n",
    "      normalized_tokens.append(token)\n",
    "    else:\n",
    "      token = re.sub(r'(.)\\1+', r'\\1', token)\n",
    "      normalized_tokens.append(token)\n",
    "  return ' '.join(normalized_tokens)\n",
    "\n",
    "data['Clean'] = data['text'].apply(lambda x: cleaningText(x, kata_baku_berulang_final))\n",
    "data"
   ],
   "id": "d3210c288f05d483",
   "outputs": [
    {
     "data": {
      "text/plain": [
       "                                                    text  \\\n",
       "0       Mending plonga plong Tinimbang pinter go minteri   \n",
       "1                        Hidup amin Raiso bapa repormasi   \n",
       "2                           Mantaappps... Btlllll pak...   \n",
       "3                          Yang menghina itu lambemu min   \n",
       "4      Amin rais manusia paling redah pikiranya..peng...   \n",
       "...                                                  ...   \n",
       "19342  @kompascom Tapi aiman bertanya ke pengacaranya...   \n",
       "19343  @muannas_alaidid Yg jelas omongannya Jokowi pa...   \n",
       "19344                      @CakKhum depresi si om Jokowi   \n",
       "19345  @TriSartopo @ch_chotimah2 @jokowi Mana berani ...   \n",
       "19346  @powerangerpink7 @sarwonobs @DokterTifa @jokow...   \n",
       "\n",
       "                                                   Clean  \n",
       "0       mending plonga plong tinimbang pinter go minteri  \n",
       "1                        hidup amin raiso bapa repormasi  \n",
       "2                                        mantaps btl pak  \n",
       "3                          yang menghina itu lambemu min  \n",
       "4      amin rais manusia paling redah pikiranya penga...  \n",
       "...                                                  ...  \n",
       "19342  tapi aiman bertanya ke pengacaranya ijazah yan...  \n",
       "19343             yg jelas omongannya jokowi palsu titik  \n",
       "19344                               depresi si om jokowi  \n",
       "19345  mana berani tatut sama ibu hm maklum masih cur...  \n",
       "19346  roy bedain panci rumah ama panci kantor aja ga...  \n",
       "\n",
       "[18909 rows x 2 columns]"
      ],
      "text/html": [
       "<div>\n",
       "<style scoped>\n",
       "    .dataframe tbody tr th:only-of-type {\n",
       "        vertical-align: middle;\n",
       "    }\n",
       "\n",
       "    .dataframe tbody tr th {\n",
       "        vertical-align: top;\n",
       "    }\n",
       "\n",
       "    .dataframe thead th {\n",
       "        text-align: right;\n",
       "    }\n",
       "</style>\n",
       "<table border=\"1\" class=\"dataframe\">\n",
       "  <thead>\n",
       "    <tr style=\"text-align: right;\">\n",
       "      <th></th>\n",
       "      <th>text</th>\n",
       "      <th>Clean</th>\n",
       "    </tr>\n",
       "  </thead>\n",
       "  <tbody>\n",
       "    <tr>\n",
       "      <th>0</th>\n",
       "      <td>Mending plonga plong Tinimbang pinter go minteri</td>\n",
       "      <td>mending plonga plong tinimbang pinter go minteri</td>\n",
       "    </tr>\n",
       "    <tr>\n",
       "      <th>1</th>\n",
       "      <td>Hidup amin Raiso bapa repormasi</td>\n",
       "      <td>hidup amin raiso bapa repormasi</td>\n",
       "    </tr>\n",
       "    <tr>\n",
       "      <th>2</th>\n",
       "      <td>Mantaappps... Btlllll pak...</td>\n",
       "      <td>mantaps btl pak</td>\n",
       "    </tr>\n",
       "    <tr>\n",
       "      <th>3</th>\n",
       "      <td>Yang menghina itu lambemu min</td>\n",
       "      <td>yang menghina itu lambemu min</td>\n",
       "    </tr>\n",
       "    <tr>\n",
       "      <th>4</th>\n",
       "      <td>Amin rais manusia paling redah pikiranya..peng...</td>\n",
       "      <td>amin rais manusia paling redah pikiranya penga...</td>\n",
       "    </tr>\n",
       "    <tr>\n",
       "      <th>...</th>\n",
       "      <td>...</td>\n",
       "      <td>...</td>\n",
       "    </tr>\n",
       "    <tr>\n",
       "      <th>19342</th>\n",
       "      <td>@kompascom Tapi aiman bertanya ke pengacaranya...</td>\n",
       "      <td>tapi aiman bertanya ke pengacaranya ijazah yan...</td>\n",
       "    </tr>\n",
       "    <tr>\n",
       "      <th>19343</th>\n",
       "      <td>@muannas_alaidid Yg jelas omongannya Jokowi pa...</td>\n",
       "      <td>yg jelas omongannya jokowi palsu titik</td>\n",
       "    </tr>\n",
       "    <tr>\n",
       "      <th>19344</th>\n",
       "      <td>@CakKhum depresi si om Jokowi</td>\n",
       "      <td>depresi si om jokowi</td>\n",
       "    </tr>\n",
       "    <tr>\n",
       "      <th>19345</th>\n",
       "      <td>@TriSartopo @ch_chotimah2 @jokowi Mana berani ...</td>\n",
       "      <td>mana berani tatut sama ibu hm maklum masih cur...</td>\n",
       "    </tr>\n",
       "    <tr>\n",
       "      <th>19346</th>\n",
       "      <td>@powerangerpink7 @sarwonobs @DokterTifa @jokow...</td>\n",
       "      <td>roy bedain panci rumah ama panci kantor aja ga...</td>\n",
       "    </tr>\n",
       "  </tbody>\n",
       "</table>\n",
       "<p>18909 rows × 2 columns</p>\n",
       "</div>"
      ]
     },
     "execution_count": 38,
     "metadata": {},
     "output_type": "execute_result"
    }
   ],
   "execution_count": 38
  },
  {
   "metadata": {
    "ExecuteTime": {
     "end_time": "2025-05-29T07:23:55.682803Z",
     "start_time": "2025-05-29T07:23:55.659450Z"
    }
   },
   "cell_type": "code",
   "source": [
    "data = data[data['Clean'].notna()]\n",
    "data = data[data['Clean'].str.strip() != '']\n",
    "data = data[data['Clean'].str.contains(r'[a-zA-Z]{2,}', na=False)]\n",
    "data"
   ],
   "id": "39d7c0846cb8a297",
   "outputs": [
    {
     "data": {
      "text/plain": [
       "                                                    text  \\\n",
       "0       Mending plonga plong Tinimbang pinter go minteri   \n",
       "1                        Hidup amin Raiso bapa repormasi   \n",
       "2                           Mantaappps... Btlllll pak...   \n",
       "3                          Yang menghina itu lambemu min   \n",
       "4      Amin rais manusia paling redah pikiranya..peng...   \n",
       "...                                                  ...   \n",
       "19342  @kompascom Tapi aiman bertanya ke pengacaranya...   \n",
       "19343  @muannas_alaidid Yg jelas omongannya Jokowi pa...   \n",
       "19344                      @CakKhum depresi si om Jokowi   \n",
       "19345  @TriSartopo @ch_chotimah2 @jokowi Mana berani ...   \n",
       "19346  @powerangerpink7 @sarwonobs @DokterTifa @jokow...   \n",
       "\n",
       "                                                   Clean  \n",
       "0       mending plonga plong tinimbang pinter go minteri  \n",
       "1                        hidup amin raiso bapa repormasi  \n",
       "2                                        mantaps btl pak  \n",
       "3                          yang menghina itu lambemu min  \n",
       "4      amin rais manusia paling redah pikiranya penga...  \n",
       "...                                                  ...  \n",
       "19342  tapi aiman bertanya ke pengacaranya ijazah yan...  \n",
       "19343             yg jelas omongannya jokowi palsu titik  \n",
       "19344                               depresi si om jokowi  \n",
       "19345  mana berani tatut sama ibu hm maklum masih cur...  \n",
       "19346  roy bedain panci rumah ama panci kantor aja ga...  \n",
       "\n",
       "[18869 rows x 2 columns]"
      ],
      "text/html": [
       "<div>\n",
       "<style scoped>\n",
       "    .dataframe tbody tr th:only-of-type {\n",
       "        vertical-align: middle;\n",
       "    }\n",
       "\n",
       "    .dataframe tbody tr th {\n",
       "        vertical-align: top;\n",
       "    }\n",
       "\n",
       "    .dataframe thead th {\n",
       "        text-align: right;\n",
       "    }\n",
       "</style>\n",
       "<table border=\"1\" class=\"dataframe\">\n",
       "  <thead>\n",
       "    <tr style=\"text-align: right;\">\n",
       "      <th></th>\n",
       "      <th>text</th>\n",
       "      <th>Clean</th>\n",
       "    </tr>\n",
       "  </thead>\n",
       "  <tbody>\n",
       "    <tr>\n",
       "      <th>0</th>\n",
       "      <td>Mending plonga plong Tinimbang pinter go minteri</td>\n",
       "      <td>mending plonga plong tinimbang pinter go minteri</td>\n",
       "    </tr>\n",
       "    <tr>\n",
       "      <th>1</th>\n",
       "      <td>Hidup amin Raiso bapa repormasi</td>\n",
       "      <td>hidup amin raiso bapa repormasi</td>\n",
       "    </tr>\n",
       "    <tr>\n",
       "      <th>2</th>\n",
       "      <td>Mantaappps... Btlllll pak...</td>\n",
       "      <td>mantaps btl pak</td>\n",
       "    </tr>\n",
       "    <tr>\n",
       "      <th>3</th>\n",
       "      <td>Yang menghina itu lambemu min</td>\n",
       "      <td>yang menghina itu lambemu min</td>\n",
       "    </tr>\n",
       "    <tr>\n",
       "      <th>4</th>\n",
       "      <td>Amin rais manusia paling redah pikiranya..peng...</td>\n",
       "      <td>amin rais manusia paling redah pikiranya penga...</td>\n",
       "    </tr>\n",
       "    <tr>\n",
       "      <th>...</th>\n",
       "      <td>...</td>\n",
       "      <td>...</td>\n",
       "    </tr>\n",
       "    <tr>\n",
       "      <th>19342</th>\n",
       "      <td>@kompascom Tapi aiman bertanya ke pengacaranya...</td>\n",
       "      <td>tapi aiman bertanya ke pengacaranya ijazah yan...</td>\n",
       "    </tr>\n",
       "    <tr>\n",
       "      <th>19343</th>\n",
       "      <td>@muannas_alaidid Yg jelas omongannya Jokowi pa...</td>\n",
       "      <td>yg jelas omongannya jokowi palsu titik</td>\n",
       "    </tr>\n",
       "    <tr>\n",
       "      <th>19344</th>\n",
       "      <td>@CakKhum depresi si om Jokowi</td>\n",
       "      <td>depresi si om jokowi</td>\n",
       "    </tr>\n",
       "    <tr>\n",
       "      <th>19345</th>\n",
       "      <td>@TriSartopo @ch_chotimah2 @jokowi Mana berani ...</td>\n",
       "      <td>mana berani tatut sama ibu hm maklum masih cur...</td>\n",
       "    </tr>\n",
       "    <tr>\n",
       "      <th>19346</th>\n",
       "      <td>@powerangerpink7 @sarwonobs @DokterTifa @jokow...</td>\n",
       "      <td>roy bedain panci rumah ama panci kantor aja ga...</td>\n",
       "    </tr>\n",
       "  </tbody>\n",
       "</table>\n",
       "<p>18869 rows × 2 columns</p>\n",
       "</div>"
      ]
     },
     "execution_count": 40,
     "metadata": {},
     "output_type": "execute_result"
    }
   ],
   "execution_count": 40
  },
  {
   "metadata": {
    "ExecuteTime": {
     "end_time": "2025-05-29T07:25:15.945231Z",
     "start_time": "2025-05-29T07:25:15.891159Z"
    }
   },
   "cell_type": "code",
   "source": [
    "from collections import Counter\n",
    "cnt = Counter()\n",
    "for text in data['Clean'].values:\n",
    "    for word in text.split():\n",
    "        cnt[word] += 1\n",
    "cnt.most_common(1000)\n",
    "temp = pd.DataFrame(cnt.most_common(1000))\n",
    "temp.columns=['word', 'count']\n",
    "temp"
   ],
   "id": "cb98d007af87e038",
   "outputs": [
    {
     "data": {
      "text/plain": [
       "         word  count\n",
       "0        amin   6626\n",
       "1          yg   4374\n",
       "2        rais   4037\n",
       "3       orang   3249\n",
       "4         ini   3185\n",
       "..        ...    ...\n",
       "995  terlihat     30\n",
       "996     nilai     30\n",
       "997  terwujud     30\n",
       "998      suci     29\n",
       "999     balik     29\n",
       "\n",
       "[1000 rows x 2 columns]"
      ],
      "text/html": [
       "<div>\n",
       "<style scoped>\n",
       "    .dataframe tbody tr th:only-of-type {\n",
       "        vertical-align: middle;\n",
       "    }\n",
       "\n",
       "    .dataframe tbody tr th {\n",
       "        vertical-align: top;\n",
       "    }\n",
       "\n",
       "    .dataframe thead th {\n",
       "        text-align: right;\n",
       "    }\n",
       "</style>\n",
       "<table border=\"1\" class=\"dataframe\">\n",
       "  <thead>\n",
       "    <tr style=\"text-align: right;\">\n",
       "      <th></th>\n",
       "      <th>word</th>\n",
       "      <th>count</th>\n",
       "    </tr>\n",
       "  </thead>\n",
       "  <tbody>\n",
       "    <tr>\n",
       "      <th>0</th>\n",
       "      <td>amin</td>\n",
       "      <td>6626</td>\n",
       "    </tr>\n",
       "    <tr>\n",
       "      <th>1</th>\n",
       "      <td>yg</td>\n",
       "      <td>4374</td>\n",
       "    </tr>\n",
       "    <tr>\n",
       "      <th>2</th>\n",
       "      <td>rais</td>\n",
       "      <td>4037</td>\n",
       "    </tr>\n",
       "    <tr>\n",
       "      <th>3</th>\n",
       "      <td>orang</td>\n",
       "      <td>3249</td>\n",
       "    </tr>\n",
       "    <tr>\n",
       "      <th>4</th>\n",
       "      <td>ini</td>\n",
       "      <td>3185</td>\n",
       "    </tr>\n",
       "    <tr>\n",
       "      <th>...</th>\n",
       "      <td>...</td>\n",
       "      <td>...</td>\n",
       "    </tr>\n",
       "    <tr>\n",
       "      <th>995</th>\n",
       "      <td>terlihat</td>\n",
       "      <td>30</td>\n",
       "    </tr>\n",
       "    <tr>\n",
       "      <th>996</th>\n",
       "      <td>nilai</td>\n",
       "      <td>30</td>\n",
       "    </tr>\n",
       "    <tr>\n",
       "      <th>997</th>\n",
       "      <td>terwujud</td>\n",
       "      <td>30</td>\n",
       "    </tr>\n",
       "    <tr>\n",
       "      <th>998</th>\n",
       "      <td>suci</td>\n",
       "      <td>29</td>\n",
       "    </tr>\n",
       "    <tr>\n",
       "      <th>999</th>\n",
       "      <td>balik</td>\n",
       "      <td>29</td>\n",
       "    </tr>\n",
       "  </tbody>\n",
       "</table>\n",
       "<p>1000 rows × 2 columns</p>\n",
       "</div>"
      ]
     },
     "execution_count": 41,
     "metadata": {},
     "output_type": "execute_result"
    }
   ],
   "execution_count": 41
  },
  {
   "metadata": {},
   "cell_type": "code",
   "outputs": [],
   "execution_count": null,
   "source": [
    "norm = {\"yg\":\"yang\",\"ga\":\"tidak\",\"bgt\":\"sangat\",\"aja\":\"saja\", \"gak\":\"tidak\", \"sih\":\"\", \"gw\":\"saya\", \"udah\":\"sudah\", \"gua\":\"saya\", \"gue\":\"saya\", \"lah\":\"\", \"nih\":\"\", \"tau\":\"\", \"wkwk\":\"ketawa\",\n",
    "        \"dah\":\"sudah\", \"dong\":\"\", \"kan\":\"\", \"nga\":\"tidak\", \"dr\":\"dari\", \"lu\":\"kamu\", \"gitu\":\"begitu\", \"jd\":\"jadi\", \"loh\":\"\", \"btw\":\"\", \"sm\":\"sama\", \"anjay\":\"anjing\", \"gatau\":\"tidak tahu\",\n",
    "        \"lo\":\"kamu\", \"salfok\":\"salah fokus\", \"sy\":\"saya\", \"enga\":\"tidak\", \"ak\":\"saya\", \"ngak\":\"tidak\"}\n",
    "\n",
    "def normalisasi(text):\n",
    "    for word, replacement in norm.items():\n",
    "        text = re.sub(r'\\b' + word + r'\\b', replacement, text)\n",
    "    return text\n",
    "\n",
    "data['Clean'] = data['Clean'].apply(normalisasi)\n",
    "data"
   ],
   "id": "1e7b58c80afe1baa"
  }
 ],
 "metadata": {
  "kernelspec": {
   "display_name": "Python 3",
   "language": "python",
   "name": "python3"
  },
  "language_info": {
   "codemirror_mode": {
    "name": "ipython",
    "version": 2
   },
   "file_extension": ".py",
   "mimetype": "text/x-python",
   "name": "python",
   "nbconvert_exporter": "python",
   "pygments_lexer": "ipython2",
   "version": "2.7.6"
  }
 },
 "nbformat": 4,
 "nbformat_minor": 5
}
