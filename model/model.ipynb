{
 "cells": [
  {
   "cell_type": "code",
   "id": "initial_id",
   "metadata": {
    "collapsed": true,
    "ExecuteTime": {
     "end_time": "2025-06-05T15:50:45.155607Z",
     "start_time": "2025-06-05T15:50:45.149253Z"
    }
   },
   "source": [
    "import pandas as pd\n",
    "import numpy as np\n",
    "import pickle\n",
    "import matplotlib.pyplot as plt\n",
    "from sklearn.utils.class_weight import compute_class_weight\n",
    "import tensorflow as tf\n",
    "from tensorflow.keras.preprocessing.text import Tokenizer\n",
    "from tensorflow.keras.preprocessing.sequence import pad_sequences\n",
    "from tensorflow.keras.layers import Embedding, LSTM, Dense, Bidirectional, Dropout, GRU\n",
    "from tensorflow.keras.callbacks import EarlyStopping, ReduceLROnPlateau\n",
    "from tensorflow.keras.optimizers import Adam"
   ],
   "outputs": [],
   "execution_count": 39
  },
  {
   "metadata": {
    "ExecuteTime": {
     "end_time": "2025-06-05T15:50:46.423402Z",
     "start_time": "2025-06-05T15:50:46.387465Z"
    }
   },
   "cell_type": "code",
   "source": [
    "data = pd.read_csv('data_preprocessed_with_labels.csv')\n",
    "data"
   ],
   "id": "e58f9d421067809d",
   "outputs": [
    {
     "data": {
      "text/plain": [
       "                                           original_text  \\\n",
       "0       Mending plonga plong Tinimbang pinter go minteri   \n",
       "1                        Hidup amin Raiso bapa repormasi   \n",
       "2                           Mantaappps... Btlllll pak...   \n",
       "3                          Yang menghina itu lambemu min   \n",
       "4      Amin rais manusia paling redah pikiranya..peng...   \n",
       "...                                                  ...   \n",
       "18770  @kompascom Tapi aiman bertanya ke pengacaranya...   \n",
       "18771  @muannas_alaidid Yg jelas omongannya Jokowi pa...   \n",
       "18772                      @CakKhum depresi si om Jokowi   \n",
       "18773  @TriSartopo @ch_chotimah2 @jokowi Mana berani ...   \n",
       "18774  @powerangerpink7 @sarwonobs @DokterTifa @jokow...   \n",
       "\n",
       "                                          processed_text  cyberbullying_score  \\\n",
       "0        mending bingung plong timbang pintar go minteri                  0.0   \n",
       "1                             hidup raiso bapa repormasi                  0.0   \n",
       "2                                            mantaps btl                  0.0   \n",
       "3                                 menghina itu lambe min                  0.0   \n",
       "4      manusia redah pikiranya abdi hawa nafsu iri de...                  0.0   \n",
       "...                                                  ...                  ...   \n",
       "18770  aiman acara ijazah edar pegang arti ini lindun...                  0.0   \n",
       "18771                                  omong palsu titik                  0.0   \n",
       "18772                                      depresi si om                  0.0   \n",
       "18773  berani tatut hm maklum curut berani cuap aja y...                  0.0   \n",
       "18774  roy bedain panci rumah ama panci kantor aja ya...                  0.0   \n",
       "\n",
       "       cyberbullying_word_count  label  \n",
       "0                             0      0  \n",
       "1                             0      0  \n",
       "2                             0      0  \n",
       "3                             0      0  \n",
       "4                             0      0  \n",
       "...                         ...    ...  \n",
       "18770                         0      0  \n",
       "18771                         0      0  \n",
       "18772                         0      0  \n",
       "18773                         0      0  \n",
       "18774                         0      0  \n",
       "\n",
       "[18775 rows x 5 columns]"
      ],
      "text/html": [
       "<div>\n",
       "<style scoped>\n",
       "    .dataframe tbody tr th:only-of-type {\n",
       "        vertical-align: middle;\n",
       "    }\n",
       "\n",
       "    .dataframe tbody tr th {\n",
       "        vertical-align: top;\n",
       "    }\n",
       "\n",
       "    .dataframe thead th {\n",
       "        text-align: right;\n",
       "    }\n",
       "</style>\n",
       "<table border=\"1\" class=\"dataframe\">\n",
       "  <thead>\n",
       "    <tr style=\"text-align: right;\">\n",
       "      <th></th>\n",
       "      <th>original_text</th>\n",
       "      <th>processed_text</th>\n",
       "      <th>cyberbullying_score</th>\n",
       "      <th>cyberbullying_word_count</th>\n",
       "      <th>label</th>\n",
       "    </tr>\n",
       "  </thead>\n",
       "  <tbody>\n",
       "    <tr>\n",
       "      <th>0</th>\n",
       "      <td>Mending plonga plong Tinimbang pinter go minteri</td>\n",
       "      <td>mending bingung plong timbang pintar go minteri</td>\n",
       "      <td>0.0</td>\n",
       "      <td>0</td>\n",
       "      <td>0</td>\n",
       "    </tr>\n",
       "    <tr>\n",
       "      <th>1</th>\n",
       "      <td>Hidup amin Raiso bapa repormasi</td>\n",
       "      <td>hidup raiso bapa repormasi</td>\n",
       "      <td>0.0</td>\n",
       "      <td>0</td>\n",
       "      <td>0</td>\n",
       "    </tr>\n",
       "    <tr>\n",
       "      <th>2</th>\n",
       "      <td>Mantaappps... Btlllll pak...</td>\n",
       "      <td>mantaps btl</td>\n",
       "      <td>0.0</td>\n",
       "      <td>0</td>\n",
       "      <td>0</td>\n",
       "    </tr>\n",
       "    <tr>\n",
       "      <th>3</th>\n",
       "      <td>Yang menghina itu lambemu min</td>\n",
       "      <td>menghina itu lambe min</td>\n",
       "      <td>0.0</td>\n",
       "      <td>0</td>\n",
       "      <td>0</td>\n",
       "    </tr>\n",
       "    <tr>\n",
       "      <th>4</th>\n",
       "      <td>Amin rais manusia paling redah pikiranya..peng...</td>\n",
       "      <td>manusia redah pikiranya abdi hawa nafsu iri de...</td>\n",
       "      <td>0.0</td>\n",
       "      <td>0</td>\n",
       "      <td>0</td>\n",
       "    </tr>\n",
       "    <tr>\n",
       "      <th>...</th>\n",
       "      <td>...</td>\n",
       "      <td>...</td>\n",
       "      <td>...</td>\n",
       "      <td>...</td>\n",
       "      <td>...</td>\n",
       "    </tr>\n",
       "    <tr>\n",
       "      <th>18770</th>\n",
       "      <td>@kompascom Tapi aiman bertanya ke pengacaranya...</td>\n",
       "      <td>aiman acara ijazah edar pegang arti ini lindun...</td>\n",
       "      <td>0.0</td>\n",
       "      <td>0</td>\n",
       "      <td>0</td>\n",
       "    </tr>\n",
       "    <tr>\n",
       "      <th>18771</th>\n",
       "      <td>@muannas_alaidid Yg jelas omongannya Jokowi pa...</td>\n",
       "      <td>omong palsu titik</td>\n",
       "      <td>0.0</td>\n",
       "      <td>0</td>\n",
       "      <td>0</td>\n",
       "    </tr>\n",
       "    <tr>\n",
       "      <th>18772</th>\n",
       "      <td>@CakKhum depresi si om Jokowi</td>\n",
       "      <td>depresi si om</td>\n",
       "      <td>0.0</td>\n",
       "      <td>0</td>\n",
       "      <td>0</td>\n",
       "    </tr>\n",
       "    <tr>\n",
       "      <th>18773</th>\n",
       "      <td>@TriSartopo @ch_chotimah2 @jokowi Mana berani ...</td>\n",
       "      <td>berani tatut hm maklum curut berani cuap aja y...</td>\n",
       "      <td>0.0</td>\n",
       "      <td>0</td>\n",
       "      <td>0</td>\n",
       "    </tr>\n",
       "    <tr>\n",
       "      <th>18774</th>\n",
       "      <td>@powerangerpink7 @sarwonobs @DokterTifa @jokow...</td>\n",
       "      <td>roy bedain panci rumah ama panci kantor aja ya...</td>\n",
       "      <td>0.0</td>\n",
       "      <td>0</td>\n",
       "      <td>0</td>\n",
       "    </tr>\n",
       "  </tbody>\n",
       "</table>\n",
       "<p>18775 rows × 5 columns</p>\n",
       "</div>"
      ]
     },
     "execution_count": 40,
     "metadata": {},
     "output_type": "execute_result"
    }
   ],
   "execution_count": 40
  },
  {
   "metadata": {
    "ExecuteTime": {
     "end_time": "2025-06-05T16:11:10.576177Z",
     "start_time": "2025-06-05T16:11:10.567322Z"
    }
   },
   "cell_type": "code",
   "source": [
    "vocab_size = 10000\n",
    "embedding_dim = 64\n",
    "max_length = 120\n",
    "trunc_type='post'\n",
    "padding_type='post'\n",
    "oov_tok = \"<OOV>\""
   ],
   "id": "3c35ebf80b7a7910",
   "outputs": [],
   "execution_count": 60
  },
  {
   "metadata": {
    "ExecuteTime": {
     "end_time": "2025-06-05T16:11:11.115346Z",
     "start_time": "2025-06-05T16:11:11.112517Z"
    }
   },
   "cell_type": "code",
   "source": [
    "sentences = data['processed_text']\n",
    "labels = data['label']"
   ],
   "id": "9abe7c6b82ca08b7",
   "outputs": [],
   "execution_count": 61
  },
  {
   "metadata": {
    "ExecuteTime": {
     "end_time": "2025-06-05T16:11:11.551462Z",
     "start_time": "2025-06-05T16:11:11.548502Z"
    }
   },
   "cell_type": "code",
   "source": [
    "train_ratio = 0.7\n",
    "val_ratio = 0.15\n",
    "test_ratio = 0.15\n",
    "\n",
    "train_size = int(len(sentences) * train_ratio)\n",
    "val_size = int(len(sentences) * val_ratio)\n",
    "test_size = len(sentences) - train_size - val_size\n",
    "train_sentences = sentences[:train_size]\n",
    "val_sentences = sentences[train_size : train_size + val_size]\n",
    "test_sentences = sentences[train_size + val_size :]\n",
    "train_labels = labels[:train_size]\n",
    "val_labels = labels[train_size : train_size + val_size]\n",
    "test_labels = labels[train_size + val_size :]"
   ],
   "id": "a526b25114548583",
   "outputs": [],
   "execution_count": 62
  },
  {
   "metadata": {
    "ExecuteTime": {
     "end_time": "2025-06-05T16:11:12.102049Z",
     "start_time": "2025-06-05T16:11:11.971002Z"
    }
   },
   "cell_type": "code",
   "source": [
    "tokenizer = Tokenizer(num_words=vocab_size, oov_token=oov_tok)\n",
    "tokenizer.fit_on_texts(train_sentences)\n",
    "with open('tokenizer.pickle', 'wb') as handle:\n",
    "    pickle.dump(tokenizer, handle, protocol=pickle.HIGHEST_PROTOCOL)\n",
    "training_sequences = tokenizer.texts_to_sequences(train_sentences)\n",
    "validation_sequences = tokenizer.texts_to_sequences(val_sentences)\n",
    "test_sequences = tokenizer.texts_to_sequences(test_sentences)"
   ],
   "id": "5ec9b5e7e064e412",
   "outputs": [],
   "execution_count": 63
  },
  {
   "metadata": {
    "ExecuteTime": {
     "end_time": "2025-06-05T16:11:12.495148Z",
     "start_time": "2025-06-05T16:11:12.470089Z"
    }
   },
   "cell_type": "code",
   "source": [
    "training_padded = pad_sequences(training_sequences, maxlen=max_length, padding=padding_type, truncating=trunc_type)\n",
    "validation_padded = pad_sequences(validation_sequences, maxlen=max_length, padding=padding_type, truncating=trunc_type)\n",
    "test_padded = pad_sequences(test_sequences, maxlen=max_length, padding=padding_type, truncating=trunc_type)"
   ],
   "id": "fb93f6f0a2b501f7",
   "outputs": [],
   "execution_count": 64
  },
  {
   "metadata": {
    "ExecuteTime": {
     "end_time": "2025-06-05T16:11:12.905130Z",
     "start_time": "2025-06-05T16:11:12.902908Z"
    }
   },
   "cell_type": "code",
   "source": [
    "train_labels = np.array(train_labels)\n",
    "validation_labels = np.array(val_labels)\n",
    "test_labels = np.array(test_labels)"
   ],
   "id": "3e8b437e0bcdc9e9",
   "outputs": [],
   "execution_count": 65
  },
  {
   "metadata": {
    "ExecuteTime": {
     "end_time": "2025-06-05T16:11:13.350751Z",
     "start_time": "2025-06-05T16:11:13.344845Z"
    }
   },
   "cell_type": "code",
   "source": [
    "class_weights_array = compute_class_weight(\n",
    "    class_weight='balanced',\n",
    "    classes=np.unique(train_labels),\n",
    "    y=train_labels\n",
    ")\n",
    "print(f\"Bobot kelas yang dihitung (array): {class_weights_array}\")\n",
    "class_weight_dict = dict(zip(np.unique(train_labels), class_weights_array))\n",
    "print(f\"Bobot kelas dalam format dictionary: {class_weight_dict}\")"
   ],
   "id": "941995f9157b7f63",
   "outputs": [
    {
     "name": "stdout",
     "output_type": "stream",
     "text": [
      "Bobot kelas yang dihitung (array): [0.43298629 1.26560092 1.31157685 7.25275938]\n",
      "Bobot kelas dalam format dictionary: {0: 0.43298629414865575, 1: 1.2656009244992297, 2: 1.3115768463073851, 3: 7.252759381898454}\n"
     ]
    }
   ],
   "execution_count": 66
  },
  {
   "metadata": {
    "ExecuteTime": {
     "end_time": "2025-06-05T16:14:11.393861Z",
     "start_time": "2025-06-05T16:11:13.923024Z"
    }
   },
   "cell_type": "code",
   "source": [
    "model = tf.keras.models.Sequential([\n",
    "    Embedding(input_dim=vocab_size, output_dim=embedding_dim, input_length=max_length),\n",
    "    Bidirectional(LSTM(units=128)),\n",
    "    Dropout(0.5),\n",
    "    Dense(units=len(np.unique(train_labels)), activation='softmax')\n",
    "])\n",
    "optimizer = Adam(learning_rate=0.001)\n",
    "model.compile(optimizer=optimizer,\n",
    "              loss='sparse_categorical_crossentropy',\n",
    "              metrics=['accuracy'])\n",
    "\n",
    "early_stopping = EarlyStopping(monitor='val_loss', patience=3, restore_best_weights=True)\n",
    "reduce_lr = ReduceLROnPlateau(monitor='val_loss', factor=0.2, patience=2, min_lr=0.00001)\n",
    "\n",
    "epochs = 30\n",
    "batch_size = 64\n",
    "history = model.fit(\n",
    "    training_padded,\n",
    "    train_labels,\n",
    "    epochs=epochs,\n",
    "    batch_size=batch_size,\n",
    "    validation_data=(validation_padded, validation_labels),\n",
    "    callbacks=[early_stopping, reduce_lr],\n",
    "    class_weight=class_weight_dict,\n",
    "    verbose=2\n",
    ")"
   ],
   "id": "65f25b36f6fbc4f4",
   "outputs": [
    {
     "name": "stdout",
     "output_type": "stream",
     "text": [
      "Epoch 1/30\n"
     ]
    },
    {
     "name": "stderr",
     "output_type": "stream",
     "text": [
      "/Users/fikrifaizzulfadhli/Python Projects/Python Interpreter/Python 3.12/.venv/lib/python3.12/site-packages/keras/src/layers/core/embedding.py:97: UserWarning: Argument `input_length` is deprecated. Just remove it.\n",
      "  warnings.warn(\n"
     ]
    },
    {
     "name": "stdout",
     "output_type": "stream",
     "text": [
      "206/206 - 11s - 52ms/step - accuracy: 0.6189 - loss: 0.9947 - val_accuracy: 0.8903 - val_loss: 0.3533 - learning_rate: 0.0010\n",
      "Epoch 2/30\n",
      "206/206 - 10s - 46ms/step - accuracy: 0.9371 - loss: 0.2766 - val_accuracy: 0.9705 - val_loss: 0.1108 - learning_rate: 0.0010\n",
      "Epoch 3/30\n",
      "206/206 - 10s - 46ms/step - accuracy: 0.9782 - loss: 0.1283 - val_accuracy: 0.9762 - val_loss: 0.0782 - learning_rate: 0.0010\n",
      "Epoch 4/30\n",
      "206/206 - 10s - 47ms/step - accuracy: 0.9894 - loss: 0.0700 - val_accuracy: 0.9833 - val_loss: 0.0699 - learning_rate: 0.0010\n",
      "Epoch 5/30\n",
      "206/206 - 10s - 47ms/step - accuracy: 0.9960 - loss: 0.0340 - val_accuracy: 0.9812 - val_loss: 0.0759 - learning_rate: 0.0010\n",
      "Epoch 6/30\n",
      "206/206 - 10s - 47ms/step - accuracy: 0.9977 - loss: 0.0206 - val_accuracy: 0.9869 - val_loss: 0.0665 - learning_rate: 0.0010\n",
      "Epoch 7/30\n",
      "206/206 - 10s - 47ms/step - accuracy: 0.9933 - loss: 0.0463 - val_accuracy: 0.9865 - val_loss: 0.0519 - learning_rate: 0.0010\n",
      "Epoch 8/30\n",
      "206/206 - 10s - 47ms/step - accuracy: 0.9952 - loss: 0.0324 - val_accuracy: 0.9851 - val_loss: 0.0623 - learning_rate: 0.0010\n",
      "Epoch 9/30\n",
      "206/206 - 10s - 48ms/step - accuracy: 0.9944 - loss: 0.0315 - val_accuracy: 0.9851 - val_loss: 0.0623 - learning_rate: 0.0010\n",
      "Epoch 10/30\n",
      "206/206 - 10s - 47ms/step - accuracy: 0.9981 - loss: 0.0157 - val_accuracy: 0.9872 - val_loss: 0.0491 - learning_rate: 2.0000e-04\n",
      "Epoch 11/30\n",
      "206/206 - 10s - 47ms/step - accuracy: 0.9991 - loss: 0.0096 - val_accuracy: 0.9869 - val_loss: 0.0455 - learning_rate: 2.0000e-04\n",
      "Epoch 12/30\n",
      "206/206 - 10s - 47ms/step - accuracy: 0.9992 - loss: 0.0079 - val_accuracy: 0.9876 - val_loss: 0.0464 - learning_rate: 2.0000e-04\n",
      "Epoch 13/30\n",
      "206/206 - 10s - 47ms/step - accuracy: 0.9994 - loss: 0.0068 - val_accuracy: 0.9890 - val_loss: 0.0455 - learning_rate: 2.0000e-04\n",
      "Epoch 14/30\n",
      "206/206 - 10s - 48ms/step - accuracy: 0.9995 - loss: 0.0066 - val_accuracy: 0.9890 - val_loss: 0.0453 - learning_rate: 4.0000e-05\n",
      "Epoch 15/30\n",
      "206/206 - 10s - 48ms/step - accuracy: 0.9994 - loss: 0.0069 - val_accuracy: 0.9890 - val_loss: 0.0449 - learning_rate: 4.0000e-05\n",
      "Epoch 16/30\n",
      "206/206 - 10s - 51ms/step - accuracy: 0.9994 - loss: 0.0067 - val_accuracy: 0.9890 - val_loss: 0.0452 - learning_rate: 4.0000e-05\n",
      "Epoch 17/30\n",
      "206/206 - 10s - 50ms/step - accuracy: 0.9995 - loss: 0.0059 - val_accuracy: 0.9890 - val_loss: 0.0451 - learning_rate: 4.0000e-05\n",
      "Epoch 18/30\n",
      "206/206 - 10s - 49ms/step - accuracy: 0.9995 - loss: 0.0062 - val_accuracy: 0.9890 - val_loss: 0.0450 - learning_rate: 1.0000e-05\n"
     ]
    }
   ],
   "execution_count": 67
  },
  {
   "metadata": {
    "ExecuteTime": {
     "end_time": "2025-06-05T16:15:50.338854Z",
     "start_time": "2025-06-05T16:15:48.409350Z"
    }
   },
   "cell_type": "code",
   "source": [
    "loss, accuracy = model.evaluate(test_padded, test_labels)\n",
    "print(f\"\\nTest Accuracy: {accuracy:.4f}\")"
   ],
   "id": "ac26c4a0e7b9adb7",
   "outputs": [
    {
     "name": "stdout",
     "output_type": "stream",
     "text": [
      "\u001B[1m89/89\u001B[0m \u001B[32m━━━━━━━━━━━━━━━━━━━━\u001B[0m\u001B[37m\u001B[0m \u001B[1m2s\u001B[0m 19ms/step - accuracy: 0.9865 - loss: 0.0590\n",
      "\n",
      "Test Accuracy: 0.9847\n"
     ]
    }
   ],
   "execution_count": 68
  },
  {
   "metadata": {
    "ExecuteTime": {
     "end_time": "2025-06-05T13:56:54.542416Z",
     "start_time": "2025-06-05T13:56:54.359896Z"
    }
   },
   "cell_type": "code",
   "source": [
    "acc = history.history['accuracy']\n",
    "val_acc = history.history['val_accuracy']\n",
    "loss = history.history['loss']\n",
    "val_loss = history.history['val_loss']\n",
    "epochs_range = range(len(acc))\n",
    "plt.figure(figsize=(14, 5))\n",
    "plt.subplot(1, 2, 1)\n",
    "plt.plot(epochs_range, acc, label='Training Accuracy')\n",
    "plt.plot(epochs_range, val_acc, label='Validation Accuracy')\n",
    "plt.legend(loc='lower right')\n",
    "plt.title('Training and Validation Accuracy')\n",
    "plt.xlabel('Epochs')\n",
    "plt.ylabel('Accuracy')\n",
    "plt.subplot(1, 2, 2)\n",
    "plt.plot(epochs_range, loss, label='Training Loss')\n",
    "plt.plot(epochs_range, val_loss, label='Validation Loss')\n",
    "plt.legend(loc='upper right')\n",
    "plt.title('Training and Validation Loss')\n",
    "plt.xlabel('Epochs')\n",
    "plt.ylabel('Loss')\n",
    "plt.suptitle('Learning Curves', fontsize=16)\n",
    "plt.tight_layout(rect=[0, 0, 1, 0.96])\n",
    "plt.show()"
   ],
   "id": "2dc0b4f200e262b",
   "outputs": [
    {
     "data": {
      "text/plain": [
       "<Figure size 1400x500 with 2 Axes>"
      ],
      "image/png": "[encoded data removed]"
     },
     "metadata": {},
     "output_type": "display_data"
    }
   ],
   "execution_count": 37
  },
  {
   "metadata": {
    "ExecuteTime": {
     "end_time": "2025-06-05T16:16:07.236013Z",
     "start_time": "2025-06-05T16:16:07.182141Z"
    }
   },
   "cell_type": "code",
   "source": [
    "model.save('model.h5')\n",
    "print(\"Model berhasil disimpan sebagai model.h5\")"
   ],
   "id": "e65c47f24d0d0d2a",
   "outputs": [
    {
     "name": "stderr",
     "output_type": "stream",
     "text": [
      "WARNING:absl:You are saving your model as an HDF5 file via `model.save()` or `keras.saving.save_model(model)`. This file format is considered legacy. We recommend using instead the native Keras format, e.g. `model.save('my_model.keras')` or `keras.saving.save_model(model, 'my_model.keras')`. \n"
     ]
    },
    {
     "name": "stdout",
     "output_type": "stream",
     "text": [
      "Model berhasil disimpan sebagai model.h5\n"
     ]
    }
   ],
   "execution_count": 69
  },
  {
   "metadata": {},
   "cell_type": "code",
   "outputs": [],
   "execution_count": null,
   "source": "",
   "id": "c81dcb4d3e8791ce"
  }
 ],
 "metadata": {
  "kernelspec": {
   "display_name": "Python 3",
   "language": "python",
   "name": "python3"
  },
  "language_info": {
   "codemirror_mode": {
    "name": "ipython",
    "version": 2
   },
   "file_extension": ".py",
   "mimetype": "text/x-python",
   "name": "python",
   "nbconvert_exporter": "python",
   "pygments_lexer": "ipython2",
   "version": "2.7.6"
  }
 },
 "nbformat": 4,
 "nbformat_minor": 5
}
