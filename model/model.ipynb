{
 "cells": [
  {
   "cell_type": "code",
   "id": "initial_id",
   "metadata": {
    "collapsed": true,
    "ExecuteTime": {
     "end_time": "2025-06-04T17:15:57.974541Z",
     "start_time": "2025-06-04T17:15:57.966716Z"
    }
   },
   "source": [
    "import pandas as pd\n",
    "import numpy as np\n",
    "import matplotlib.pyplot as plt\n",
    "from sklearn.utils.class_weight import compute_class_weight\n",
    "import tensorflow as tf\n",
    "from tensorflow.keras.preprocessing.text import Tokenizer\n",
    "from tensorflow.keras.preprocessing.sequence import pad_sequences\n",
    "from tensorflow.keras.layers import Embedding, LSTM, Dense, Bidirectional, Dropout\n",
    "from tensorflow.keras.callbacks import EarlyStopping, ReduceLROnPlateau\n",
    "from tensorflow.keras.optimizers import Adam"
   ],
   "outputs": [],
   "execution_count": 19
  },
  {
   "metadata": {
    "ExecuteTime": {
     "end_time": "2025-06-04T16:36:14.217517Z",
     "start_time": "2025-06-04T16:36:14.157999Z"
    }
   },
   "cell_type": "code",
   "source": [
    "data = pd.read_csv('data_preprocessed_with_labels.csv')\n",
    "data"
   ],
   "id": "e58f9d421067809d",
   "outputs": [
    {
     "data": {
      "text/plain": [
       "                                           original_text  \\\n",
       "0       Mending plonga plong Tinimbang pinter go minteri   \n",
       "1                        Hidup amin Raiso bapa repormasi   \n",
       "2                           Mantaappps... Btlllll pak...   \n",
       "3                          Yang menghina itu lambemu min   \n",
       "4      Amin rais manusia paling redah pikiranya..peng...   \n",
       "...                                                  ...   \n",
       "18770  @kompascom Tapi aiman bertanya ke pengacaranya...   \n",
       "18771  @muannas_alaidid Yg jelas omongannya Jokowi pa...   \n",
       "18772                      @CakKhum depresi si om Jokowi   \n",
       "18773  @TriSartopo @ch_chotimah2 @jokowi Mana berani ...   \n",
       "18774  @powerangerpink7 @sarwonobs @DokterTifa @jokow...   \n",
       "\n",
       "                                          processed_text  cyberbullying_score  \\\n",
       "0        mending bingung plong timbang pintar go minteri                  0.0   \n",
       "1                             hidup raiso bapa repormasi                  0.0   \n",
       "2                                            mantaps btl                  0.0   \n",
       "3                                 menghina itu lambe min                  0.0   \n",
       "4      manusia redah pikiranya abdi hawa nafsu iri de...                  0.0   \n",
       "...                                                  ...                  ...   \n",
       "18770  aiman acara ijazah edar pegang arti ini lindun...                  0.0   \n",
       "18771                                  omong palsu titik                  0.0   \n",
       "18772                                      depresi si om                  0.0   \n",
       "18773  berani tatut hm maklum curut berani cuap aja y...                  0.0   \n",
       "18774  roy bedain panci rumah ama panci kantor aja ya...                  0.0   \n",
       "\n",
       "       cyberbullying_word_count  label  \n",
       "0                             0      0  \n",
       "1                             0      0  \n",
       "2                             0      0  \n",
       "3                             0      0  \n",
       "4                             0      0  \n",
       "...                         ...    ...  \n",
       "18770                         0      0  \n",
       "18771                         0      0  \n",
       "18772                         0      0  \n",
       "18773                         0      0  \n",
       "18774                         0      0  \n",
       "\n",
       "[18775 rows x 5 columns]"
      ],
      "text/html": [
       "<div>\n",
       "<style scoped>\n",
       "    .dataframe tbody tr th:only-of-type {\n",
       "        vertical-align: middle;\n",
       "    }\n",
       "\n",
       "    .dataframe tbody tr th {\n",
       "        vertical-align: top;\n",
       "    }\n",
       "\n",
       "    .dataframe thead th {\n",
       "        text-align: right;\n",
       "    }\n",
       "</style>\n",
       "<table border=\"1\" class=\"dataframe\">\n",
       "  <thead>\n",
       "    <tr style=\"text-align: right;\">\n",
       "      <th></th>\n",
       "      <th>original_text</th>\n",
       "      <th>processed_text</th>\n",
       "      <th>cyberbullying_score</th>\n",
       "      <th>cyberbullying_word_count</th>\n",
       "      <th>label</th>\n",
       "    </tr>\n",
       "  </thead>\n",
       "  <tbody>\n",
       "    <tr>\n",
       "      <th>0</th>\n",
       "      <td>Mending plonga plong Tinimbang pinter go minteri</td>\n",
       "      <td>mending bingung plong timbang pintar go minteri</td>\n",
       "      <td>0.0</td>\n",
       "      <td>0</td>\n",
       "      <td>0</td>\n",
       "    </tr>\n",
       "    <tr>\n",
       "      <th>1</th>\n",
       "      <td>Hidup amin Raiso bapa repormasi</td>\n",
       "      <td>hidup raiso bapa repormasi</td>\n",
       "      <td>0.0</td>\n",
       "      <td>0</td>\n",
       "      <td>0</td>\n",
       "    </tr>\n",
       "    <tr>\n",
       "      <th>2</th>\n",
       "      <td>Mantaappps... Btlllll pak...</td>\n",
       "      <td>mantaps btl</td>\n",
       "      <td>0.0</td>\n",
       "      <td>0</td>\n",
       "      <td>0</td>\n",
       "    </tr>\n",
       "    <tr>\n",
       "      <th>3</th>\n",
       "      <td>Yang menghina itu lambemu min</td>\n",
       "      <td>menghina itu lambe min</td>\n",
       "      <td>0.0</td>\n",
       "      <td>0</td>\n",
       "      <td>0</td>\n",
       "    </tr>\n",
       "    <tr>\n",
       "      <th>4</th>\n",
       "      <td>Amin rais manusia paling redah pikiranya..peng...</td>\n",
       "      <td>manusia redah pikiranya abdi hawa nafsu iri de...</td>\n",
       "      <td>0.0</td>\n",
       "      <td>0</td>\n",
       "      <td>0</td>\n",
       "    </tr>\n",
       "    <tr>\n",
       "      <th>...</th>\n",
       "      <td>...</td>\n",
       "      <td>...</td>\n",
       "      <td>...</td>\n",
       "      <td>...</td>\n",
       "      <td>...</td>\n",
       "    </tr>\n",
       "    <tr>\n",
       "      <th>18770</th>\n",
       "      <td>@kompascom Tapi aiman bertanya ke pengacaranya...</td>\n",
       "      <td>aiman acara ijazah edar pegang arti ini lindun...</td>\n",
       "      <td>0.0</td>\n",
       "      <td>0</td>\n",
       "      <td>0</td>\n",
       "    </tr>\n",
       "    <tr>\n",
       "      <th>18771</th>\n",
       "      <td>@muannas_alaidid Yg jelas omongannya Jokowi pa...</td>\n",
       "      <td>omong palsu titik</td>\n",
       "      <td>0.0</td>\n",
       "      <td>0</td>\n",
       "      <td>0</td>\n",
       "    </tr>\n",
       "    <tr>\n",
       "      <th>18772</th>\n",
       "      <td>@CakKhum depresi si om Jokowi</td>\n",
       "      <td>depresi si om</td>\n",
       "      <td>0.0</td>\n",
       "      <td>0</td>\n",
       "      <td>0</td>\n",
       "    </tr>\n",
       "    <tr>\n",
       "      <th>18773</th>\n",
       "      <td>@TriSartopo @ch_chotimah2 @jokowi Mana berani ...</td>\n",
       "      <td>berani tatut hm maklum curut berani cuap aja y...</td>\n",
       "      <td>0.0</td>\n",
       "      <td>0</td>\n",
       "      <td>0</td>\n",
       "    </tr>\n",
       "    <tr>\n",
       "      <th>18774</th>\n",
       "      <td>@powerangerpink7 @sarwonobs @DokterTifa @jokow...</td>\n",
       "      <td>roy bedain panci rumah ama panci kantor aja ya...</td>\n",
       "      <td>0.0</td>\n",
       "      <td>0</td>\n",
       "      <td>0</td>\n",
       "    </tr>\n",
       "  </tbody>\n",
       "</table>\n",
       "<p>18775 rows × 5 columns</p>\n",
       "</div>"
      ]
     },
     "execution_count": 2,
     "metadata": {},
     "output_type": "execute_result"
    }
   ],
   "execution_count": 2
  },
  {
   "metadata": {
    "ExecuteTime": {
     "end_time": "2025-06-04T16:43:31.312901Z",
     "start_time": "2025-06-04T16:43:31.306207Z"
    }
   },
   "cell_type": "code",
   "source": [
    "vocab_size = 1000\n",
    "embedding_dim = 16\n",
    "max_length = 120\n",
    "trunc_type='post'\n",
    "padding_type='post'\n",
    "oov_tok = \"<OOV>\""
   ],
   "id": "3c35ebf80b7a7910",
   "outputs": [],
   "execution_count": 3
  },
  {
   "metadata": {
    "ExecuteTime": {
     "end_time": "2025-06-04T16:45:19.468498Z",
     "start_time": "2025-06-04T16:45:19.465559Z"
    }
   },
   "cell_type": "code",
   "source": [
    "sentences = data['processed_text']\n",
    "labels = data['label']"
   ],
   "id": "9abe7c6b82ca08b7",
   "outputs": [],
   "execution_count": 4
  },
  {
   "metadata": {
    "ExecuteTime": {
     "end_time": "2025-06-04T16:51:20.308510Z",
     "start_time": "2025-06-04T16:51:20.300516Z"
    }
   },
   "cell_type": "code",
   "source": [
    "train_ratio = 0.7\n",
    "val_ratio = 0.15\n",
    "test_ratio = 0.15\n",
    "\n",
    "train_size = int(len(sentences) * train_ratio)\n",
    "val_size = int(len(sentences) * val_ratio)\n",
    "test_size = len(sentences) - train_size - val_size\n",
    "train_sentences = sentences[:train_size]\n",
    "val_sentences = sentences[train_size : train_size + val_size]\n",
    "test_sentences = sentences[train_size + val_size :]\n",
    "train_labels = labels[:train_size]\n",
    "val_labels = labels[train_size : train_size + val_size]\n",
    "test_labels = labels[train_size + val_size :]"
   ],
   "id": "a526b25114548583",
   "outputs": [],
   "execution_count": 6
  },
  {
   "metadata": {
    "ExecuteTime": {
     "end_time": "2025-06-04T16:55:51.223442Z",
     "start_time": "2025-06-04T16:55:50.954168Z"
    }
   },
   "cell_type": "code",
   "source": [
    "tokenizer = Tokenizer(num_words=vocab_size, oov_token=oov_tok)\n",
    "tokenizer.fit_on_texts(train_sentences)\n",
    "training_sequences = tokenizer.texts_to_sequences(train_sentences)\n",
    "validation_sequences = tokenizer.texts_to_sequences(val_sentences)\n",
    "test_sequences = tokenizer.texts_to_sequences(test_sentences)"
   ],
   "id": "5ec9b5e7e064e412",
   "outputs": [],
   "execution_count": 7
  },
  {
   "metadata": {
    "ExecuteTime": {
     "end_time": "2025-06-04T16:55:53.159779Z",
     "start_time": "2025-06-04T16:55:53.133139Z"
    }
   },
   "cell_type": "code",
   "source": [
    "training_padded = pad_sequences(training_sequences, maxlen=max_length, padding=padding_type, truncating=trunc_type)\n",
    "validation_padded = pad_sequences(validation_sequences, maxlen=max_length, padding=padding_type, truncating=trunc_type)\n",
    "test_padded = pad_sequences(test_sequences, maxlen=max_length, padding=padding_type, truncating=trunc_type)"
   ],
   "id": "fb93f6f0a2b501f7",
   "outputs": [],
   "execution_count": 8
  },
  {
   "metadata": {
    "ExecuteTime": {
     "end_time": "2025-06-04T16:56:22.619260Z",
     "start_time": "2025-06-04T16:56:22.612817Z"
    }
   },
   "cell_type": "code",
   "source": [
    "train_labels = np.array(train_labels)\n",
    "validation_labels = np.array(val_labels)\n",
    "test_labels = np.array(test_labels)"
   ],
   "id": "3e8b437e0bcdc9e9",
   "outputs": [],
   "execution_count": 9
  },
  {
   "metadata": {
    "ExecuteTime": {
     "end_time": "2025-06-04T17:03:26.037310Z",
     "start_time": "2025-06-04T17:03:25.933798Z"
    }
   },
   "cell_type": "code",
   "source": [
    "class_weights_array = compute_class_weight(\n",
    "    class_weight='balanced',\n",
    "    classes=np.unique(train_labels),\n",
    "    y=train_labels\n",
    ")\n",
    "print(f\"Bobot kelas yang dihitung (array): {class_weights_array}\")\n",
    "class_weight_dict = dict(zip(np.unique(train_labels), class_weights_array))\n",
    "print(f\"Bobot kelas dalam format dictionary: {class_weight_dict}\")"
   ],
   "id": "941995f9157b7f63",
   "outputs": [
    {
     "name": "stdout",
     "output_type": "stream",
     "text": [
      "Bobot kelas yang dihitung (array): [0.43298629 1.26560092 1.31157685 7.25275938]\n",
      "Bobot kelas dalam format dictionary: {0: 0.43298629414865575, 1: 1.2656009244992297, 2: 1.3115768463073851, 3: 7.252759381898454}\n"
     ]
    }
   ],
   "execution_count": 16
  },
  {
   "metadata": {
    "ExecuteTime": {
     "end_time": "2025-06-04T17:13:49.525205Z",
     "start_time": "2025-06-04T17:08:36.858291Z"
    }
   },
   "cell_type": "code",
   "source": [
    "model = tf.keras.models.Sequential([\n",
    "    Embedding(input_dim=vocab_size, output_dim=embedding_dim, input_length=max_length),\n",
    "    Bidirectional(LSTM(units=64)),\n",
    "    Dropout(0.5),\n",
    "    Dense(units=len(np.unique(train_labels)), activation='softmax')\n",
    "])\n",
    "optimizer = Adam(learning_rate=0.001)\n",
    "model.compile(optimizer=optimizer,\n",
    "              loss='sparse_categorical_crossentropy',\n",
    "              metrics=['accuracy'])\n",
    "\n",
    "epochs = 30\n",
    "batch_size = 64\n",
    "\n",
    "history = model.fit(\n",
    "    training_padded,\n",
    "    train_labels,\n",
    "    epochs=epochs,\n",
    "    batch_size=batch_size,\n",
    "    validation_data=(validation_padded, validation_labels),\n",
    "    class_weight=class_weight_dict,\n",
    "    verbose=2\n",
    ")"
   ],
   "id": "65f25b36f6fbc4f4",
   "outputs": [
    {
     "name": "stderr",
     "output_type": "stream",
     "text": [
      "/Users/fikrifaizzulfadhli/Python Projects/Python Interpreter/Python 3.12/.venv/lib/python3.12/site-packages/keras/src/layers/core/embedding.py:97: UserWarning: Argument `input_length` is deprecated. Just remove it.\n",
      "  warnings.warn(\n",
      "2025-06-05 00:08:36.909314: I metal_plugin/src/device/metal_device.cc:1154] Metal device set to: Apple M4\n",
      "2025-06-05 00:08:36.909633: I metal_plugin/src/device/metal_device.cc:296] systemMemory: 16.00 GB\n",
      "2025-06-05 00:08:36.909702: I metal_plugin/src/device/metal_device.cc:313] maxCacheSize: 5.33 GB\n",
      "2025-06-05 00:08:36.909951: I tensorflow/core/common_runtime/pluggable_device/pluggable_device_factory.cc:305] Could not identify NUMA node of platform GPU ID 0, defaulting to 0. Your kernel may not have been built with NUMA support.\n",
      "2025-06-05 00:08:36.910466: I tensorflow/core/common_runtime/pluggable_device/pluggable_device_factory.cc:271] Created TensorFlow device (/job:localhost/replica:0/task:0/device:GPU:0 with 0 MB memory) -> physical PluggableDevice (device: 0, name: METAL, pci bus id: <undefined>)\n"
     ]
    },
    {
     "name": "stdout",
     "output_type": "stream",
     "text": [
      "Epoch 1/30\n"
     ]
    },
    {
     "name": "stderr",
     "output_type": "stream",
     "text": [
      "2025-06-05 00:08:37.656965: I tensorflow/core/grappler/optimizers/custom_graph_optimizer_registry.cc:117] Plugin optimizer for device_type GPU is enabled.\n"
     ]
    },
    {
     "name": "stdout",
     "output_type": "stream",
     "text": [
      "206/206 - 14s - 66ms/step - accuracy: 0.4782 - loss: 1.2167 - val_accuracy: 0.6939 - val_loss: 0.8532\n",
      "Epoch 2/30\n",
      "206/206 - 10s - 48ms/step - accuracy: 0.7779 - loss: 0.7293 - val_accuracy: 0.8615 - val_loss: 0.4346\n",
      "Epoch 3/30\n",
      "206/206 - 10s - 49ms/step - accuracy: 0.8828 - loss: 0.4640 - val_accuracy: 0.9400 - val_loss: 0.2609\n",
      "Epoch 4/30\n",
      "206/206 - 10s - 49ms/step - accuracy: 0.9502 - loss: 0.2755 - val_accuracy: 0.9237 - val_loss: 0.2801\n",
      "Epoch 5/30\n",
      "206/206 - 10s - 50ms/step - accuracy: 0.9664 - loss: 0.2057 - val_accuracy: 0.9663 - val_loss: 0.1255\n",
      "Epoch 6/30\n",
      "206/206 - 10s - 50ms/step - accuracy: 0.9768 - loss: 0.1653 - val_accuracy: 0.9648 - val_loss: 0.1267\n",
      "Epoch 7/30\n",
      "206/206 - 10s - 48ms/step - accuracy: 0.9817 - loss: 0.1386 - val_accuracy: 0.9705 - val_loss: 0.1199\n",
      "Epoch 8/30\n",
      "206/206 - 10s - 49ms/step - accuracy: 0.9848 - loss: 0.1215 - val_accuracy: 0.9759 - val_loss: 0.1029\n",
      "Epoch 9/30\n",
      "206/206 - 10s - 49ms/step - accuracy: 0.9835 - loss: 0.1157 - val_accuracy: 0.9734 - val_loss: 0.1102\n",
      "Epoch 10/30\n",
      "206/206 - 11s - 52ms/step - accuracy: 0.9872 - loss: 0.1001 - val_accuracy: 0.9854 - val_loss: 0.0805\n",
      "Epoch 11/30\n",
      "206/206 - 10s - 49ms/step - accuracy: 0.9876 - loss: 0.0955 - val_accuracy: 0.9830 - val_loss: 0.0851\n",
      "Epoch 12/30\n",
      "206/206 - 10s - 49ms/step - accuracy: 0.9898 - loss: 0.0847 - val_accuracy: 0.9822 - val_loss: 0.0932\n",
      "Epoch 13/30\n",
      "206/206 - 10s - 51ms/step - accuracy: 0.9883 - loss: 0.0867 - val_accuracy: 0.9872 - val_loss: 0.0792\n",
      "Epoch 14/30\n",
      "206/206 - 10s - 48ms/step - accuracy: 0.9893 - loss: 0.0800 - val_accuracy: 0.9826 - val_loss: 0.0850\n",
      "Epoch 15/30\n",
      "206/206 - 10s - 49ms/step - accuracy: 0.9919 - loss: 0.0691 - val_accuracy: 0.9869 - val_loss: 0.0772\n",
      "Epoch 16/30\n",
      "206/206 - 11s - 53ms/step - accuracy: 0.9919 - loss: 0.0635 - val_accuracy: 0.9766 - val_loss: 0.1265\n",
      "Epoch 17/30\n",
      "206/206 - 10s - 48ms/step - accuracy: 0.9827 - loss: 0.1168 - val_accuracy: 0.9869 - val_loss: 0.0768\n",
      "Epoch 18/30\n",
      "206/206 - 10s - 48ms/step - accuracy: 0.9923 - loss: 0.0652 - val_accuracy: 0.9830 - val_loss: 0.0881\n",
      "Epoch 19/30\n",
      "206/206 - 11s - 51ms/step - accuracy: 0.9912 - loss: 0.0699 - val_accuracy: 0.9819 - val_loss: 0.0891\n",
      "Epoch 20/30\n",
      "206/206 - 10s - 51ms/step - accuracy: 0.9912 - loss: 0.0575 - val_accuracy: 0.9822 - val_loss: 0.0935\n",
      "Epoch 21/30\n",
      "206/206 - 11s - 53ms/step - accuracy: 0.9938 - loss: 0.0507 - val_accuracy: 0.9815 - val_loss: 0.1005\n",
      "Epoch 22/30\n",
      "206/206 - 11s - 52ms/step - accuracy: 0.9917 - loss: 0.0593 - val_accuracy: 0.9826 - val_loss: 0.0958\n",
      "Epoch 23/30\n",
      "206/206 - 10s - 50ms/step - accuracy: 0.9903 - loss: 0.0701 - val_accuracy: 0.9808 - val_loss: 0.0975\n",
      "Epoch 24/30\n",
      "206/206 - 11s - 51ms/step - accuracy: 0.9936 - loss: 0.0525 - val_accuracy: 0.9805 - val_loss: 0.0941\n",
      "Epoch 25/30\n",
      "206/206 - 11s - 53ms/step - accuracy: 0.9932 - loss: 0.0457 - val_accuracy: 0.9812 - val_loss: 0.1042\n",
      "Epoch 26/30\n",
      "206/206 - 11s - 53ms/step - accuracy: 0.9906 - loss: 0.0624 - val_accuracy: 0.9826 - val_loss: 0.0893\n",
      "Epoch 27/30\n",
      "206/206 - 10s - 50ms/step - accuracy: 0.9949 - loss: 0.0403 - val_accuracy: 0.9755 - val_loss: 0.1312\n",
      "Epoch 28/30\n",
      "206/206 - 10s - 49ms/step - accuracy: 0.9321 - loss: 0.4394 - val_accuracy: 0.9645 - val_loss: 0.1317\n",
      "Epoch 29/30\n",
      "206/206 - 10s - 48ms/step - accuracy: 0.9755 - loss: 0.1514 - val_accuracy: 0.9762 - val_loss: 0.1000\n",
      "Epoch 30/30\n",
      "206/206 - 10s - 48ms/step - accuracy: 0.9869 - loss: 0.0934 - val_accuracy: 0.9787 - val_loss: 0.1020\n"
     ]
    }
   ],
   "execution_count": 17
  },
  {
   "metadata": {
    "ExecuteTime": {
     "end_time": "2025-06-04T17:13:56.547875Z",
     "start_time": "2025-06-04T17:13:53.398616Z"
    }
   },
   "cell_type": "code",
   "source": [
    "loss, accuracy = model.evaluate(test_padded, test_labels)\n",
    "print(f\"\\nTest Accuracy: {accuracy:.4f}\")"
   ],
   "id": "ac26c4a0e7b9adb7",
   "outputs": [
    {
     "name": "stdout",
     "output_type": "stream",
     "text": [
      "\u001B[1m89/89\u001B[0m \u001B[32m━━━━━━━━━━━━━━━━━━━━\u001B[0m\u001B[37m\u001B[0m \u001B[1m3s\u001B[0m 30ms/step - accuracy: 0.9733 - loss: 0.1197\n",
      "\n",
      "Test Accuracy: 0.9709\n"
     ]
    }
   ],
   "execution_count": 18
  },
  {
   "metadata": {
    "ExecuteTime": {
     "end_time": "2025-06-04T17:16:02.091393Z",
     "start_time": "2025-06-04T17:16:01.860017Z"
    }
   },
   "cell_type": "code",
   "source": [
    "acc = history.history['accuracy']\n",
    "val_acc = history.history['val_accuracy']\n",
    "loss = history.history['loss']\n",
    "val_loss = history.history['val_loss']\n",
    "epochs_range = range(len(acc))\n",
    "plt.figure(figsize=(14, 5))\n",
    "plt.subplot(1, 2, 1)\n",
    "plt.plot(epochs_range, acc, label='Training Accuracy')\n",
    "plt.plot(epochs_range, val_acc, label='Validation Accuracy')\n",
    "plt.legend(loc='lower right')\n",
    "plt.title('Training and Validation Accuracy')\n",
    "plt.xlabel('Epochs')\n",
    "plt.ylabel('Accuracy')\n",
    "plt.subplot(1, 2, 2)\n",
    "plt.plot(epochs_range, loss, label='Training Loss')\n",
    "plt.plot(epochs_range, val_loss, label='Validation Loss')\n",
    "plt.legend(loc='upper right')\n",
    "plt.title('Training and Validation Loss')\n",
    "plt.xlabel('Epochs')\n",
    "plt.ylabel('Loss')\n",
    "plt.suptitle('Learning Curves', fontsize=16)\n",
    "plt.tight_layout(rect=[0, 0, 1, 0.96])\n",
    "plt.show()"
   ],
   "id": "2dc0b4f200e262b",
   "outputs": [
    {
     "data": {
      "text/plain": [
       "<Figure size 1400x500 with 2 Axes>"
      ],
      "image/png": "[encoded data removed]"
     },
     "metadata": {},
     "output_type": "display_data"
    }
   ],
   "execution_count": 20
  }
 ],
 "metadata": {
  "kernelspec": {
   "display_name": "Python 3",
   "language": "python",
   "name": "python3"
  },
  "language_info": {
   "codemirror_mode": {
    "name": "ipython",
    "version": 2
   },
   "file_extension": ".py",
   "mimetype": "text/x-python",
   "name": "python",
   "nbconvert_exporter": "python",
   "pygments_lexer": "ipython2",
   "version": "2.7.6"
  }
 },
 "nbformat": 4,
 "nbformat_minor": 5
}
